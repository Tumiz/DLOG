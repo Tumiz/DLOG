{
 "cells": [
  {
   "source": [
    "**DLog** is a dynamic data log tool."
   ],
   "cell_type": "markdown",
   "metadata": {}
  },
  {
   "source": [
    "Compile dynamic libary"
   ],
   "cell_type": "markdown",
   "metadata": {}
  },
  {
   "cell_type": "code",
   "execution_count": 7,
   "metadata": {
    "tags": []
   },
   "outputs": [],
   "source": [
    "!c++ -I ../boost_1_74_0/ dlog.cc -shared -lpthread -fPIC -o build/libdlog.so"
   ]
  },
  {
   "source": [
    "Compile with dlog libary"
   ],
   "cell_type": "markdown",
   "metadata": {}
  },
  {
   "cell_type": "code",
   "execution_count": 8,
   "metadata": {
    "tags": []
   },
   "outputs": [],
   "source": [
    "!c++ doc/chart.cc -I . build/libdlog.so -o build/chart"
   ]
  },
  {
   "source": [
    "or"
   ],
   "cell_type": "markdown",
   "metadata": {}
  },
  {
   "cell_type": "code",
   "execution_count": 7,
   "metadata": {
    "tags": []
   },
   "outputs": [],
   "source": [
    "!c++ doc/chart.cc -I . -Lbuild -ldlog -o build/chart"
   ]
  },
  {
   "source": [
    "launch server in another terminal\n",
    "```\n",
    "python server.py \n",
    "```"
   ],
   "cell_type": "markdown",
   "metadata": {}
  },
  {
   "source": [
    "open http://localhost:8000/view/ in browser"
   ],
   "cell_type": "markdown",
   "metadata": {}
  },
  {
   "source": [
    "run binary file"
   ],
   "cell_type": "markdown",
   "metadata": {}
  },
  {
   "cell_type": "code",
   "execution_count": 9,
   "metadata": {
    "tags": []
   },
   "outputs": [],
   "source": [
    "!export LD_LIBRARY_PATH=$LD_LIBRARY_PATH:build;build/chart"
   ]
  },
  {
   "source": [
    "![avatar](doc/sin.png)"
   ],
   "cell_type": "markdown",
   "metadata": {}
  },
  {
   "cell_type": "code",
   "execution_count": null,
   "metadata": {},
   "outputs": [],
   "source": []
  }
 ],
 "metadata": {
  "kernelspec": {
   "display_name": "Python 3",
   "language": "python",
   "name": "python3"
  },
  "language_info": {
   "codemirror_mode": {
    "name": "ipython",
    "version": 3
   },
   "file_extension": ".py",
   "mimetype": "text/x-python",
   "name": "python",
   "nbconvert_exporter": "python",
   "pygments_lexer": "ipython3",
   "version": "3.8.2-final"
  }
 },
 "nbformat": 4,
 "nbformat_minor": 4
}